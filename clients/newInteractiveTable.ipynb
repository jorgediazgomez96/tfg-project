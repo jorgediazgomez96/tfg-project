{
 "cells": [
  {
   "cell_type": "code",
   "execution_count": 1,
   "metadata": {},
   "outputs": [
    {
     "data": {
      "text/html": [
       "<script>requirejs.config({paths: { 'plotly': ['https://cdn.plot.ly/plotly-latest.min']},});if(!window.Plotly) {{require(['plotly'],function(plotly) {window.Plotly=plotly;});}}</script>"
      ],
      "text/vnd.plotly.v1+html": [
       "<script>requirejs.config({paths: { 'plotly': ['https://cdn.plot.ly/plotly-latest.min']},});if(!window.Plotly) {{require(['plotly'],function(plotly) {window.Plotly=plotly;});}}</script>"
      ]
     },
     "metadata": {},
     "output_type": "display_data"
    }
   ],
   "source": [
    "import pandas as pd\n",
    "import requests\n",
    "import os\n",
    "import plotly.offline as py\n",
    "from plotly import figure_factory as ff\n",
    "import ipywidgets as widgets\n",
    "import plotly.graph_objs as go\n",
    "from PIL import Image\n",
    "import json\n",
    "#Made for displays online aka. not buying the pay version\n",
    "py.init_notebook_mode(connected=True)"
   ]
  },
  {
   "cell_type": "code",
   "execution_count": 2,
   "metadata": {},
   "outputs": [],
   "source": [
    "Piserver = 'http://192.168.1.44:5000/'\n",
    "dataService = pd.read_csv(Piserver)\n",
    "\n",
    "w = widgets.Text(value='',description='File name',disabled=False)\n",
    "w2 = widgets.Text(value='',description='Find file',disabled=False)\n",
    "services=['Files','Search','Download', 'Upload']\n",
    "opcionesServicios = widgets.SelectMultiple(options=list(services), description='Services')  \n",
    "options=['Image','Data','All']\n",
    "opciones = widgets.SelectMultiple(options=list(options),description='Type')\n",
    "\n",
    "tablaServicios = ff.create_table(dataService)"
   ]
  },
  {
   "cell_type": "code",
   "execution_count": 3,
   "metadata": {
    "scrolled": true
   },
   "outputs": [
    {
     "data": {
      "application/vnd.plotly.v1+json": {
       "data": [
        {
         "colorscale": [
          [
           0,
           "#00083e"
          ],
          [
           0.5,
           "#ededee"
          ],
          [
           1,
           "#ffffff"
          ]
         ],
         "hoverinfo": "none",
         "opacity": 0.75,
         "showscale": false,
         "type": "heatmap",
         "uid": "aa5fc740-ea5a-11e8-be0d-74d02b11e3df",
         "z": [
          [
           0,
           0
          ],
          [
           0.5,
           0.5
          ],
          [
           1,
           1
          ],
          [
           0.5,
           0.5
          ],
          [
           1,
           1
          ]
         ]
        }
       ],
       "layout": {
        "annotations": [
         {
          "align": "left",
          "font": {
           "color": "#ffffff"
          },
          "showarrow": false,
          "text": "<b>service</b>",
          "x": -0.45,
          "xanchor": "left",
          "xref": "x",
          "y": 0,
          "yref": "y"
         },
         {
          "align": "left",
          "font": {
           "color": "#ffffff"
          },
          "showarrow": false,
          "text": "<b>description</b>",
          "x": 0.55,
          "xanchor": "left",
          "xref": "x",
          "y": 0,
          "yref": "y"
         },
         {
          "align": "left",
          "font": {
           "color": "#000000"
          },
          "showarrow": false,
          "text": "Files",
          "x": -0.45,
          "xanchor": "left",
          "xref": "x",
          "y": 1,
          "yref": "y"
         },
         {
          "align": "left",
          "font": {
           "color": "#000000"
          },
          "showarrow": false,
          "text": " List of files inside the server",
          "x": 0.55,
          "xanchor": "left",
          "xref": "x",
          "y": 1,
          "yref": "y"
         },
         {
          "align": "left",
          "font": {
           "color": "#000000"
          },
          "showarrow": false,
          "text": "Search",
          "x": -0.45,
          "xanchor": "left",
          "xref": "x",
          "y": 2,
          "yref": "y"
         },
         {
          "align": "left",
          "font": {
           "color": "#000000"
          },
          "showarrow": false,
          "text": " Find if a file is stored in the filesystem ",
          "x": 0.55,
          "xanchor": "left",
          "xref": "x",
          "y": 2,
          "yref": "y"
         },
         {
          "align": "left",
          "font": {
           "color": "#000000"
          },
          "showarrow": false,
          "text": "Download",
          "x": -0.45,
          "xanchor": "left",
          "xref": "x",
          "y": 3,
          "yref": "y"
         },
         {
          "align": "left",
          "font": {
           "color": "#000000"
          },
          "showarrow": false,
          "text": " Download a file ",
          "x": 0.55,
          "xanchor": "left",
          "xref": "x",
          "y": 3,
          "yref": "y"
         },
         {
          "align": "left",
          "font": {
           "color": "#000000"
          },
          "showarrow": false,
          "text": "Upload",
          "x": -0.45,
          "xanchor": "left",
          "xref": "x",
          "y": 4,
          "yref": "y"
         },
         {
          "align": "left",
          "font": {
           "color": "#000000"
          },
          "showarrow": false,
          "text": " Not implemented yet",
          "x": 0.55,
          "xanchor": "left",
          "xref": "x",
          "y": 4,
          "yref": "y"
         }
        ],
        "height": 200,
        "margin": {
         "b": 0,
         "l": 0,
         "r": 0,
         "t": 0
        },
        "xaxis": {
         "dtick": 1,
         "gridwidth": 2,
         "showticklabels": false,
         "tick0": -0.5,
         "ticks": "",
         "zeroline": false
        },
        "yaxis": {
         "autorange": "reversed",
         "dtick": 1,
         "gridwidth": 2,
         "showticklabels": false,
         "tick0": 0.5,
         "ticks": "",
         "zeroline": false
        }
       }
      },
      "text/html": [
       "<div id=\"7392c9c2-5263-4bbe-b4c3-ad41ae615e6a\" style=\"height: 200px; width: 100%;\" class=\"plotly-graph-div\"></div><script type=\"text/javascript\">require([\"plotly\"], function(Plotly) { window.PLOTLYENV=window.PLOTLYENV || {};window.PLOTLYENV.BASE_URL=\"https://plot.ly\";Plotly.newPlot(\"7392c9c2-5263-4bbe-b4c3-ad41ae615e6a\", [{\"opacity\": 0.75, \"uid\": \"aa5fc740-ea5a-11e8-be0d-74d02b11e3df\", \"colorscale\": [[0, \"#00083e\"], [0.5, \"#ededee\"], [1, \"#ffffff\"]], \"showscale\": false, \"hoverinfo\": \"none\", \"z\": [[0, 0], [0.5, 0.5], [1, 1], [0.5, 0.5], [1, 1]], \"type\": \"heatmap\"}], {\"height\": 200, \"margin\": {\"r\": 0, \"b\": 0, \"l\": 0, \"t\": 0}, \"annotations\": [{\"xref\": \"x\", \"xanchor\": \"left\", \"yref\": \"y\", \"text\": \"<b>service</b>\", \"align\": \"left\", \"y\": 0, \"x\": -0.45, \"font\": {\"color\": \"#ffffff\"}, \"showarrow\": false}, {\"xref\": \"x\", \"xanchor\": \"left\", \"yref\": \"y\", \"text\": \"<b>description</b>\", \"align\": \"left\", \"y\": 0, \"x\": 0.55, \"font\": {\"color\": \"#ffffff\"}, \"showarrow\": false}, {\"xref\": \"x\", \"xanchor\": \"left\", \"yref\": \"y\", \"text\": \"Files\", \"align\": \"left\", \"y\": 1, \"x\": -0.45, \"font\": {\"color\": \"#000000\"}, \"showarrow\": false}, {\"xref\": \"x\", \"xanchor\": \"left\", \"yref\": \"y\", \"text\": \" List of files inside the server\", \"align\": \"left\", \"y\": 1, \"x\": 0.55, \"font\": {\"color\": \"#000000\"}, \"showarrow\": false}, {\"xref\": \"x\", \"xanchor\": \"left\", \"yref\": \"y\", \"text\": \"Search\", \"align\": \"left\", \"y\": 2, \"x\": -0.45, \"font\": {\"color\": \"#000000\"}, \"showarrow\": false}, {\"xref\": \"x\", \"xanchor\": \"left\", \"yref\": \"y\", \"text\": \" Find if a file is stored in the filesystem \", \"align\": \"left\", \"y\": 2, \"x\": 0.55, \"font\": {\"color\": \"#000000\"}, \"showarrow\": false}, {\"xref\": \"x\", \"xanchor\": \"left\", \"yref\": \"y\", \"text\": \"Download\", \"align\": \"left\", \"y\": 3, \"x\": -0.45, \"font\": {\"color\": \"#000000\"}, \"showarrow\": false}, {\"xref\": \"x\", \"xanchor\": \"left\", \"yref\": \"y\", \"text\": \" Download a file \", \"align\": \"left\", \"y\": 3, \"x\": 0.55, \"font\": {\"color\": \"#000000\"}, \"showarrow\": false}, {\"xref\": \"x\", \"xanchor\": \"left\", \"yref\": \"y\", \"text\": \"Upload\", \"align\": \"left\", \"y\": 4, \"x\": -0.45, \"font\": {\"color\": \"#000000\"}, \"showarrow\": false}, {\"xref\": \"x\", \"xanchor\": \"left\", \"yref\": \"y\", \"text\": \" Not implemented yet\", \"align\": \"left\", \"y\": 4, \"x\": 0.55, \"font\": {\"color\": \"#000000\"}, \"showarrow\": false}], \"xaxis\": {\"showticklabels\": false, \"tick0\": -0.5, \"ticks\": \"\", \"gridwidth\": 2, \"dtick\": 1, \"zeroline\": false}, \"yaxis\": {\"showticklabels\": false, \"tick0\": 0.5, \"ticks\": \"\", \"gridwidth\": 2, \"dtick\": 1, \"zeroline\": false, \"autorange\": \"reversed\"}}, {\"linkText\": \"Export to plot.ly\", \"showLink\": true})});</script>"
      ],
      "text/vnd.plotly.v1+html": [
       "<div id=\"7392c9c2-5263-4bbe-b4c3-ad41ae615e6a\" style=\"height: 200px; width: 100%;\" class=\"plotly-graph-div\"></div><script type=\"text/javascript\">require([\"plotly\"], function(Plotly) { window.PLOTLYENV=window.PLOTLYENV || {};window.PLOTLYENV.BASE_URL=\"https://plot.ly\";Plotly.newPlot(\"7392c9c2-5263-4bbe-b4c3-ad41ae615e6a\", [{\"opacity\": 0.75, \"uid\": \"aa5fc740-ea5a-11e8-be0d-74d02b11e3df\", \"colorscale\": [[0, \"#00083e\"], [0.5, \"#ededee\"], [1, \"#ffffff\"]], \"showscale\": false, \"hoverinfo\": \"none\", \"z\": [[0, 0], [0.5, 0.5], [1, 1], [0.5, 0.5], [1, 1]], \"type\": \"heatmap\"}], {\"height\": 200, \"margin\": {\"r\": 0, \"b\": 0, \"l\": 0, \"t\": 0}, \"annotations\": [{\"xref\": \"x\", \"xanchor\": \"left\", \"yref\": \"y\", \"text\": \"<b>service</b>\", \"align\": \"left\", \"y\": 0, \"x\": -0.45, \"font\": {\"color\": \"#ffffff\"}, \"showarrow\": false}, {\"xref\": \"x\", \"xanchor\": \"left\", \"yref\": \"y\", \"text\": \"<b>description</b>\", \"align\": \"left\", \"y\": 0, \"x\": 0.55, \"font\": {\"color\": \"#ffffff\"}, \"showarrow\": false}, {\"xref\": \"x\", \"xanchor\": \"left\", \"yref\": \"y\", \"text\": \"Files\", \"align\": \"left\", \"y\": 1, \"x\": -0.45, \"font\": {\"color\": \"#000000\"}, \"showarrow\": false}, {\"xref\": \"x\", \"xanchor\": \"left\", \"yref\": \"y\", \"text\": \" List of files inside the server\", \"align\": \"left\", \"y\": 1, \"x\": 0.55, \"font\": {\"color\": \"#000000\"}, \"showarrow\": false}, {\"xref\": \"x\", \"xanchor\": \"left\", \"yref\": \"y\", \"text\": \"Search\", \"align\": \"left\", \"y\": 2, \"x\": -0.45, \"font\": {\"color\": \"#000000\"}, \"showarrow\": false}, {\"xref\": \"x\", \"xanchor\": \"left\", \"yref\": \"y\", \"text\": \" Find if a file is stored in the filesystem \", \"align\": \"left\", \"y\": 2, \"x\": 0.55, \"font\": {\"color\": \"#000000\"}, \"showarrow\": false}, {\"xref\": \"x\", \"xanchor\": \"left\", \"yref\": \"y\", \"text\": \"Download\", \"align\": \"left\", \"y\": 3, \"x\": -0.45, \"font\": {\"color\": \"#000000\"}, \"showarrow\": false}, {\"xref\": \"x\", \"xanchor\": \"left\", \"yref\": \"y\", \"text\": \" Download a file \", \"align\": \"left\", \"y\": 3, \"x\": 0.55, \"font\": {\"color\": \"#000000\"}, \"showarrow\": false}, {\"xref\": \"x\", \"xanchor\": \"left\", \"yref\": \"y\", \"text\": \"Upload\", \"align\": \"left\", \"y\": 4, \"x\": -0.45, \"font\": {\"color\": \"#000000\"}, \"showarrow\": false}, {\"xref\": \"x\", \"xanchor\": \"left\", \"yref\": \"y\", \"text\": \" Not implemented yet\", \"align\": \"left\", \"y\": 4, \"x\": 0.55, \"font\": {\"color\": \"#000000\"}, \"showarrow\": false}], \"xaxis\": {\"showticklabels\": false, \"tick0\": -0.5, \"ticks\": \"\", \"gridwidth\": 2, \"dtick\": 1, \"zeroline\": false}, \"yaxis\": {\"showticklabels\": false, \"tick0\": 0.5, \"ticks\": \"\", \"gridwidth\": 2, \"dtick\": 1, \"zeroline\": false, \"autorange\": \"reversed\"}}, {\"linkText\": \"Export to plot.ly\", \"showLink\": true})});</script>"
      ]
     },
     "metadata": {},
     "output_type": "display_data"
    }
   ],
   "source": [
    "#Connecton to list of files\n",
    "data = pd.read_json(Piserver + 'files')\n",
    "data.to_csv('data.csv',index=False )\n",
    "df = pd.read_csv('data.csv')\n",
    "table = ff.create_table(df)\n",
    "\n",
    "py.iplot(tablaServicios, filename='tablaServicios')"
   ]
  },
  {
   "cell_type": "code",
   "execution_count": 4,
   "metadata": {},
   "outputs": [
    {
     "data": {
      "application/vnd.jupyter.widget-view+json": {
       "model_id": "cdfd428f9caf44f29b3240c4257bec99",
       "version_major": 2,
       "version_minor": 0
      },
      "text/plain": [
       "aW50ZXJhY3RpdmUoY2hpbGRyZW49KFNlbGVjdE11bHRpcGxlKGRlc2NyaXB0aW9uPXUnU2VydmljZXMnLCBvcHRpb25zPSgnRmlsZXMnLCAnU2VhcmNoJywgJ0Rvd25sb2FkJywgJ1VwbG9hZCfigKY=\n"
      ]
     },
     "metadata": {},
     "output_type": "display_data"
    }
   ],
   "source": [
    "def callService(opcionesServicios):\n",
    "    if 'Files' in opcionesServicios:        \n",
    "        py.iplot(table, filename='tablaArchivos')\n",
    "        \n",
    "    elif 'Search' in opcionesServicios:   \n",
    "        display(w2) \n",
    "        w2.observe(busca,names='value')\n",
    "        display(widgets.interactive(updateTabla,opciones=opciones))\n",
    "        \n",
    "    elif 'Download' in opcionesServicios:\n",
    "        display(w)\n",
    "        w.observe(downloadAnImage, names='value') \n",
    "        \n",
    "def busca(change):    \n",
    "    if w2.value in df['ArchiveName'].unique():\n",
    "        table =ff.create_table(df[df['ArchiveName']== w2.value])        \n",
    "        #Abre una pestaña y te muestra el archivo seleccionado\n",
    "        py.iplot(table, filename='tablaArchivos.html')\n",
    "\n",
    "def updateTabla(opciones):        \n",
    "    if 'Image' in opciones:\n",
    "        table =ff.create_table(df[df['Type']== 'Image'])\n",
    "        py.iplot(table, filename='tablaArchivos')\n",
    "        \n",
    "    elif 'Data' in opciones:\n",
    "        table = ff.create_table(df[df['Type']== 'Data'])        \n",
    "        py.iplot(table,filename = 'tablaArchivos')\n",
    "        \n",
    "    else:\n",
    "        table = ff.create_table(df)\n",
    "        py.iplot(table, filename='tablaArchivos')      \n",
    "\n",
    "def downloadAnImage(change):\n",
    "    if w.value in df['ArchiveName'].unique():\n",
    "        table =ff.create_table(df[df['ArchiveName']== w.value])\n",
    "        #Abre una pestaña y te muestra el archivo seleccionado\n",
    "        py.iplot(table, filename='tablaArchivos.html')   \n",
    "        response = requests.get(Piserver + 'download/image/{}'.format(w.value),stream=True)\n",
    "        filename = w.value\n",
    "         #Te recorres todo lo que hay en la respuesta y lo escribes en el archivo abierto\n",
    "        with open(filename, 'wb') as f:\n",
    "            for chunk in response:\n",
    "                f.write(chunk)        \n",
    "        img = Image.open(w.value)\n",
    "        print(w.value + ' downloaded')\n",
    "        img.show()\n",
    "        \n",
    "        \n",
    "#To display objects options           \n",
    "widgets.interactive(callService,opcionesServicios=opcionesServicios)        "
   ]
  },
  {
   "cell_type": "code",
   "execution_count": null,
   "metadata": {},
   "outputs": [],
   "source": [
    "\n",
    "\n"
   ]
  },
  {
   "cell_type": "code",
   "execution_count": null,
   "metadata": {},
   "outputs": [],
   "source": []
  }
 ],
 "metadata": {
  "kernelspec": {
   "display_name": "Python 2",
   "language": "python",
   "name": "python2"
  },
  "language_info": {
   "codemirror_mode": {
    "name": "ipython",
    "version": 2
   },
   "file_extension": ".py",
   "mimetype": "text/x-python",
   "name": "python",
   "nbconvert_exporter": "python",
   "pygments_lexer": "ipython2",
   "version": "2.7.15"
  }
 },
 "nbformat": 4,
 "nbformat_minor": 2
}
