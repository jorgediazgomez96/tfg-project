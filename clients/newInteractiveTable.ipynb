{
 "cells": [
  {
   "cell_type": "code",
   "execution_count": 1,
   "metadata": {},
   "outputs": [
    {
     "data": {
      "text/html": [
       "<script>requirejs.config({paths: { 'plotly': ['https://cdn.plot.ly/plotly-latest.min']},});if(!window.Plotly) {{require(['plotly'],function(plotly) {window.Plotly=plotly;});}}</script>"
      ],
      "text/vnd.plotly.v1+html": [
       "<script>requirejs.config({paths: { 'plotly': ['https://cdn.plot.ly/plotly-latest.min']},});if(!window.Plotly) {{require(['plotly'],function(plotly) {window.Plotly=plotly;});}}</script>"
      ]
     },
     "metadata": {},
     "output_type": "display_data"
    }
   ],
   "source": [
    "import pandas as pd\n",
    "import requests\n",
    "import os\n",
    "import plotly.offline as py\n",
    "from plotly import figure_factory as ff\n",
    "import ipywidgets as widgets\n",
    "import plotly.graph_objs as go\n",
    "from PIL import Image\n",
    "import json\n",
    "#Made for displays online aka. not buying the pay version\n",
    "py.init_notebook_mode(connected=True)"
   ]
  },
  {
   "cell_type": "code",
   "execution_count": 2,
   "metadata": {},
   "outputs": [],
   "source": [
    "Piserver = 'http://192.168.1.44:5000/'\n",
    "dataService = pd.read_csv(Piserver)\n",
    "\n",
    "w = widgets.Text(value='',description='File name',disabled=False)\n",
    "w2 = widgets.Text(value='',description='Find file',disabled=False)\n",
    "services=['Files','Buscar','Download', 'Upload']\n",
    "opcionesServicios = widgets.SelectMultiple(options=list(services), description='Services')  \n",
    "options=['Foto','Datos','Todo']\n",
    "opciones = widgets.SelectMultiple(options=list(options),description='Type')\n",
    "\n",
    "tablaServicios = ff.create_table(dataService)"
   ]
  },
  {
   "cell_type": "code",
   "execution_count": 3,
   "metadata": {
    "scrolled": true
   },
   "outputs": [
    {
     "data": {
      "application/vnd.plotly.v1+json": {
       "data": [
        {
         "colorscale": [
          [
           0,
           "#00083e"
          ],
          [
           0.5,
           "#ededee"
          ],
          [
           1,
           "#ffffff"
          ]
         ],
         "hoverinfo": "none",
         "opacity": 0.75,
         "showscale": false,
         "type": "heatmap",
         "uid": "6b42be30-e903-11e8-ac5b-74d02b11e3df",
         "z": [
          [
           0,
           0,
           0
          ],
          [
           0.5,
           0.5,
           0.5
          ],
          [
           1,
           1,
           1
          ],
          [
           0.5,
           0.5,
           0.5
          ],
          [
           1,
           1,
           1
          ]
         ]
        }
       ],
       "layout": {
        "annotations": [
         {
          "align": "left",
          "font": {
           "color": "#ffffff"
          },
          "showarrow": false,
          "text": "<b>service</b>",
          "x": -0.45,
          "xanchor": "left",
          "xref": "x",
          "y": 0,
          "yref": "y"
         },
         {
          "align": "left",
          "font": {
           "color": "#ffffff"
          },
          "showarrow": false,
          "text": "<b>method</b>",
          "x": 0.55,
          "xanchor": "left",
          "xref": "x",
          "y": 0,
          "yref": "y"
         },
         {
          "align": "left",
          "font": {
           "color": "#ffffff"
          },
          "showarrow": false,
          "text": "<b>description</b>",
          "x": 1.55,
          "xanchor": "left",
          "xref": "x",
          "y": 0,
          "yref": "y"
         },
         {
          "align": "left",
          "font": {
           "color": "#000000"
          },
          "showarrow": false,
          "text": "files",
          "x": -0.45,
          "xanchor": "left",
          "xref": "x",
          "y": 1,
          "yref": "y"
         },
         {
          "align": "left",
          "font": {
           "color": "#000000"
          },
          "showarrow": false,
          "text": " get",
          "x": 0.55,
          "xanchor": "left",
          "xref": "x",
          "y": 1,
          "yref": "y"
         },
         {
          "align": "left",
          "font": {
           "color": "#000000"
          },
          "showarrow": false,
          "text": "List of files inside the server",
          "x": 1.55,
          "xanchor": "left",
          "xref": "x",
          "y": 1,
          "yref": "y"
         },
         {
          "align": "left",
          "font": {
           "color": "#000000"
          },
          "showarrow": false,
          "text": "download",
          "x": -0.45,
          "xanchor": "left",
          "xref": "x",
          "y": 2,
          "yref": "y"
         },
         {
          "align": "left",
          "font": {
           "color": "#000000"
          },
          "showarrow": false,
          "text": "get",
          "x": 0.55,
          "xanchor": "left",
          "xref": "x",
          "y": 2,
          "yref": "y"
         },
         {
          "align": "left",
          "font": {
           "color": "#000000"
          },
          "showarrow": false,
          "text": "Download selected files ",
          "x": 1.55,
          "xanchor": "left",
          "xref": "x",
          "y": 2,
          "yref": "y"
         },
         {
          "align": "left",
          "font": {
           "color": "#000000"
          },
          "showarrow": false,
          "text": "upload",
          "x": -0.45,
          "xanchor": "left",
          "xref": "x",
          "y": 3,
          "yref": "y"
         },
         {
          "align": "left",
          "font": {
           "color": "#000000"
          },
          "showarrow": false,
          "text": " post",
          "x": 0.55,
          "xanchor": "left",
          "xref": "x",
          "y": 3,
          "yref": "y"
         },
         {
          "align": "left",
          "font": {
           "color": "#000000"
          },
          "showarrow": false,
          "text": "Upload selected files",
          "x": 1.55,
          "xanchor": "left",
          "xref": "x",
          "y": 3,
          "yref": "y"
         },
         {
          "align": "left",
          "font": {
           "color": "#000000"
          },
          "showarrow": false,
          "text": "football",
          "x": -0.45,
          "xanchor": "left",
          "xref": "x",
          "y": 4,
          "yref": "y"
         },
         {
          "align": "left",
          "font": {
           "color": "#000000"
          },
          "showarrow": false,
          "text": " get",
          "x": 0.55,
          "xanchor": "left",
          "xref": "x",
          "y": 4,
          "yref": "y"
         },
         {
          "align": "left",
          "font": {
           "color": "#000000"
          },
          "showarrow": false,
          "text": "not yet implemented",
          "x": 1.55,
          "xanchor": "left",
          "xref": "x",
          "y": 4,
          "yref": "y"
         }
        ],
        "height": 200,
        "margin": {
         "b": 0,
         "l": 0,
         "r": 0,
         "t": 0
        },
        "xaxis": {
         "dtick": 1,
         "gridwidth": 2,
         "showticklabels": false,
         "tick0": -0.5,
         "ticks": "",
         "zeroline": false
        },
        "yaxis": {
         "autorange": "reversed",
         "dtick": 1,
         "gridwidth": 2,
         "showticklabels": false,
         "tick0": 0.5,
         "ticks": "",
         "zeroline": false
        }
       }
      },
      "text/html": [
       "<div id=\"ecd236a7-51cf-4faa-9156-8187cf0e985c\" style=\"height: 200px; width: 100%;\" class=\"plotly-graph-div\"></div><script type=\"text/javascript\">require([\"plotly\"], function(Plotly) { window.PLOTLYENV=window.PLOTLYENV || {};window.PLOTLYENV.BASE_URL=\"https://plot.ly\";Plotly.newPlot(\"ecd236a7-51cf-4faa-9156-8187cf0e985c\", [{\"opacity\": 0.75, \"uid\": \"6b42be30-e903-11e8-ac5b-74d02b11e3df\", \"colorscale\": [[0, \"#00083e\"], [0.5, \"#ededee\"], [1, \"#ffffff\"]], \"showscale\": false, \"hoverinfo\": \"none\", \"z\": [[0, 0, 0], [0.5, 0.5, 0.5], [1, 1, 1], [0.5, 0.5, 0.5], [1, 1, 1]], \"type\": \"heatmap\"}], {\"height\": 200, \"margin\": {\"r\": 0, \"b\": 0, \"l\": 0, \"t\": 0}, \"annotations\": [{\"xref\": \"x\", \"xanchor\": \"left\", \"yref\": \"y\", \"text\": \"<b>service</b>\", \"align\": \"left\", \"y\": 0, \"x\": -0.45, \"font\": {\"color\": \"#ffffff\"}, \"showarrow\": false}, {\"xref\": \"x\", \"xanchor\": \"left\", \"yref\": \"y\", \"text\": \"<b>method</b>\", \"align\": \"left\", \"y\": 0, \"x\": 0.55, \"font\": {\"color\": \"#ffffff\"}, \"showarrow\": false}, {\"xref\": \"x\", \"xanchor\": \"left\", \"yref\": \"y\", \"text\": \"<b>description</b>\", \"align\": \"left\", \"y\": 0, \"x\": 1.55, \"font\": {\"color\": \"#ffffff\"}, \"showarrow\": false}, {\"xref\": \"x\", \"xanchor\": \"left\", \"yref\": \"y\", \"text\": \"files\", \"align\": \"left\", \"y\": 1, \"x\": -0.45, \"font\": {\"color\": \"#000000\"}, \"showarrow\": false}, {\"xref\": \"x\", \"xanchor\": \"left\", \"yref\": \"y\", \"text\": \" get\", \"align\": \"left\", \"y\": 1, \"x\": 0.55, \"font\": {\"color\": \"#000000\"}, \"showarrow\": false}, {\"xref\": \"x\", \"xanchor\": \"left\", \"yref\": \"y\", \"text\": \"List of files inside the server\", \"align\": \"left\", \"y\": 1, \"x\": 1.55, \"font\": {\"color\": \"#000000\"}, \"showarrow\": false}, {\"xref\": \"x\", \"xanchor\": \"left\", \"yref\": \"y\", \"text\": \"download\", \"align\": \"left\", \"y\": 2, \"x\": -0.45, \"font\": {\"color\": \"#000000\"}, \"showarrow\": false}, {\"xref\": \"x\", \"xanchor\": \"left\", \"yref\": \"y\", \"text\": \"get\", \"align\": \"left\", \"y\": 2, \"x\": 0.55, \"font\": {\"color\": \"#000000\"}, \"showarrow\": false}, {\"xref\": \"x\", \"xanchor\": \"left\", \"yref\": \"y\", \"text\": \"Download selected files \", \"align\": \"left\", \"y\": 2, \"x\": 1.55, \"font\": {\"color\": \"#000000\"}, \"showarrow\": false}, {\"xref\": \"x\", \"xanchor\": \"left\", \"yref\": \"y\", \"text\": \"upload\", \"align\": \"left\", \"y\": 3, \"x\": -0.45, \"font\": {\"color\": \"#000000\"}, \"showarrow\": false}, {\"xref\": \"x\", \"xanchor\": \"left\", \"yref\": \"y\", \"text\": \" post\", \"align\": \"left\", \"y\": 3, \"x\": 0.55, \"font\": {\"color\": \"#000000\"}, \"showarrow\": false}, {\"xref\": \"x\", \"xanchor\": \"left\", \"yref\": \"y\", \"text\": \"Upload selected files\", \"align\": \"left\", \"y\": 3, \"x\": 1.55, \"font\": {\"color\": \"#000000\"}, \"showarrow\": false}, {\"xref\": \"x\", \"xanchor\": \"left\", \"yref\": \"y\", \"text\": \"football\", \"align\": \"left\", \"y\": 4, \"x\": -0.45, \"font\": {\"color\": \"#000000\"}, \"showarrow\": false}, {\"xref\": \"x\", \"xanchor\": \"left\", \"yref\": \"y\", \"text\": \" get\", \"align\": \"left\", \"y\": 4, \"x\": 0.55, \"font\": {\"color\": \"#000000\"}, \"showarrow\": false}, {\"xref\": \"x\", \"xanchor\": \"left\", \"yref\": \"y\", \"text\": \"not yet implemented\", \"align\": \"left\", \"y\": 4, \"x\": 1.55, \"font\": {\"color\": \"#000000\"}, \"showarrow\": false}], \"xaxis\": {\"showticklabels\": false, \"tick0\": -0.5, \"ticks\": \"\", \"gridwidth\": 2, \"dtick\": 1, \"zeroline\": false}, \"yaxis\": {\"showticklabels\": false, \"tick0\": 0.5, \"ticks\": \"\", \"gridwidth\": 2, \"dtick\": 1, \"zeroline\": false, \"autorange\": \"reversed\"}}, {\"linkText\": \"Export to plot.ly\", \"showLink\": true})});</script>"
      ],
      "text/vnd.plotly.v1+html": [
       "<div id=\"ecd236a7-51cf-4faa-9156-8187cf0e985c\" style=\"height: 200px; width: 100%;\" class=\"plotly-graph-div\"></div><script type=\"text/javascript\">require([\"plotly\"], function(Plotly) { window.PLOTLYENV=window.PLOTLYENV || {};window.PLOTLYENV.BASE_URL=\"https://plot.ly\";Plotly.newPlot(\"ecd236a7-51cf-4faa-9156-8187cf0e985c\", [{\"opacity\": 0.75, \"uid\": \"6b42be30-e903-11e8-ac5b-74d02b11e3df\", \"colorscale\": [[0, \"#00083e\"], [0.5, \"#ededee\"], [1, \"#ffffff\"]], \"showscale\": false, \"hoverinfo\": \"none\", \"z\": [[0, 0, 0], [0.5, 0.5, 0.5], [1, 1, 1], [0.5, 0.5, 0.5], [1, 1, 1]], \"type\": \"heatmap\"}], {\"height\": 200, \"margin\": {\"r\": 0, \"b\": 0, \"l\": 0, \"t\": 0}, \"annotations\": [{\"xref\": \"x\", \"xanchor\": \"left\", \"yref\": \"y\", \"text\": \"<b>service</b>\", \"align\": \"left\", \"y\": 0, \"x\": -0.45, \"font\": {\"color\": \"#ffffff\"}, \"showarrow\": false}, {\"xref\": \"x\", \"xanchor\": \"left\", \"yref\": \"y\", \"text\": \"<b>method</b>\", \"align\": \"left\", \"y\": 0, \"x\": 0.55, \"font\": {\"color\": \"#ffffff\"}, \"showarrow\": false}, {\"xref\": \"x\", \"xanchor\": \"left\", \"yref\": \"y\", \"text\": \"<b>description</b>\", \"align\": \"left\", \"y\": 0, \"x\": 1.55, \"font\": {\"color\": \"#ffffff\"}, \"showarrow\": false}, {\"xref\": \"x\", \"xanchor\": \"left\", \"yref\": \"y\", \"text\": \"files\", \"align\": \"left\", \"y\": 1, \"x\": -0.45, \"font\": {\"color\": \"#000000\"}, \"showarrow\": false}, {\"xref\": \"x\", \"xanchor\": \"left\", \"yref\": \"y\", \"text\": \" get\", \"align\": \"left\", \"y\": 1, \"x\": 0.55, \"font\": {\"color\": \"#000000\"}, \"showarrow\": false}, {\"xref\": \"x\", \"xanchor\": \"left\", \"yref\": \"y\", \"text\": \"List of files inside the server\", \"align\": \"left\", \"y\": 1, \"x\": 1.55, \"font\": {\"color\": \"#000000\"}, \"showarrow\": false}, {\"xref\": \"x\", \"xanchor\": \"left\", \"yref\": \"y\", \"text\": \"download\", \"align\": \"left\", \"y\": 2, \"x\": -0.45, \"font\": {\"color\": \"#000000\"}, \"showarrow\": false}, {\"xref\": \"x\", \"xanchor\": \"left\", \"yref\": \"y\", \"text\": \"get\", \"align\": \"left\", \"y\": 2, \"x\": 0.55, \"font\": {\"color\": \"#000000\"}, \"showarrow\": false}, {\"xref\": \"x\", \"xanchor\": \"left\", \"yref\": \"y\", \"text\": \"Download selected files \", \"align\": \"left\", \"y\": 2, \"x\": 1.55, \"font\": {\"color\": \"#000000\"}, \"showarrow\": false}, {\"xref\": \"x\", \"xanchor\": \"left\", \"yref\": \"y\", \"text\": \"upload\", \"align\": \"left\", \"y\": 3, \"x\": -0.45, \"font\": {\"color\": \"#000000\"}, \"showarrow\": false}, {\"xref\": \"x\", \"xanchor\": \"left\", \"yref\": \"y\", \"text\": \" post\", \"align\": \"left\", \"y\": 3, \"x\": 0.55, \"font\": {\"color\": \"#000000\"}, \"showarrow\": false}, {\"xref\": \"x\", \"xanchor\": \"left\", \"yref\": \"y\", \"text\": \"Upload selected files\", \"align\": \"left\", \"y\": 3, \"x\": 1.55, \"font\": {\"color\": \"#000000\"}, \"showarrow\": false}, {\"xref\": \"x\", \"xanchor\": \"left\", \"yref\": \"y\", \"text\": \"football\", \"align\": \"left\", \"y\": 4, \"x\": -0.45, \"font\": {\"color\": \"#000000\"}, \"showarrow\": false}, {\"xref\": \"x\", \"xanchor\": \"left\", \"yref\": \"y\", \"text\": \" get\", \"align\": \"left\", \"y\": 4, \"x\": 0.55, \"font\": {\"color\": \"#000000\"}, \"showarrow\": false}, {\"xref\": \"x\", \"xanchor\": \"left\", \"yref\": \"y\", \"text\": \"not yet implemented\", \"align\": \"left\", \"y\": 4, \"x\": 1.55, \"font\": {\"color\": \"#000000\"}, \"showarrow\": false}], \"xaxis\": {\"showticklabels\": false, \"tick0\": -0.5, \"ticks\": \"\", \"gridwidth\": 2, \"dtick\": 1, \"zeroline\": false}, \"yaxis\": {\"showticklabels\": false, \"tick0\": 0.5, \"ticks\": \"\", \"gridwidth\": 2, \"dtick\": 1, \"zeroline\": false, \"autorange\": \"reversed\"}}, {\"linkText\": \"Export to plot.ly\", \"showLink\": true})});</script>"
      ]
     },
     "metadata": {},
     "output_type": "display_data"
    }
   ],
   "source": [
    "#Connecton to list of files\n",
    "data = pd.read_json(Piserver + 'files')\n",
    "data.to_csv('data.csv',index=False )\n",
    "df = pd.read_csv('data.csv')\n",
    "table = ff.create_table(df)\n",
    "\n",
    "py.iplot(tablaServicios, filename='tablaServicios')"
   ]
  },
  {
   "cell_type": "code",
   "execution_count": 5,
   "metadata": {},
   "outputs": [
    {
     "data": {
      "application/vnd.jupyter.widget-view+json": {
       "model_id": "c6f7c73a98e940d5a20af1ee5da8ebd8",
       "version_major": 2,
       "version_minor": 0
      },
      "text/plain": [
       "aW50ZXJhY3RpdmUoY2hpbGRyZW49KFNlbGVjdE11bHRpcGxlKGRlc2NyaXB0aW9uPXUnU2VydmljZXMnLCBpbmRleD0oMiwpLCBvcHRpb25zPSgnRmlsZXMnLCAnQnVzY2FyJywgJ0Rvd25sb2HigKY=\n"
      ]
     },
     "metadata": {},
     "output_type": "display_data"
    }
   ],
   "source": [
    "def callService(opcionesServicios):\n",
    "    if 'Files' in opcionesServicios:        \n",
    "        py.iplot(table, filename='tablaArchivos')\n",
    "        \n",
    "    elif 'Buscar' in opcionesServicios:   \n",
    "        display(w2) \n",
    "        w2.observe(busca,names='value')\n",
    "        display(widgets.interactive(updateTabla,opciones=opciones))\n",
    "        \n",
    "    elif 'Download' in opcionesServicios:\n",
    "        display(w)\n",
    "        w.observe(downloadAnImage, names='value') \n",
    "        \n",
    "def busca(change):    \n",
    "    if w2.value in df['archivos'].unique():\n",
    "        table =ff.create_table(df[df['archivos']== w2.value])        \n",
    "        #Abre una pestaña y te muestra el archivo seleccionado\n",
    "        py.iplot(table, filename='tablaArchivos.html') \n",
    "\n",
    "def updateTabla(opciones):        \n",
    "    if 'Foto' in opciones:\n",
    "        table =ff.create_table(df[df['direccion']== '{}/download/image/nameOfImage.extention'])\n",
    "        py.iplot(table, filename='tablaArchivos')\n",
    "        \n",
    "    elif 'Datos' in opciones:\n",
    "        table = ff.create_table(df[df['direccion']== '{}/download/data/archiveName.extention'] )        \n",
    "        py.iplot(table,filename = 'tablaArchivos')\n",
    "        \n",
    "    else:\n",
    "        table = ff.create_table(df)\n",
    "        py.iplot(table, filename='tablaArchivos')      \n",
    "\n",
    "def downloadAnImage(change):\n",
    "    if w.value in df['archivos'].unique():\n",
    "        table =ff.create_table(df[df['archivos']== w.value])\n",
    "        #Abre una pestaña y te muestra el archivo seleccionado\n",
    "        py.iplot(table, filename='tablaArchivos.html')   \n",
    "        response = requests.get(Piserver + 'download/image/{}'.format(w.value),stream=True)\n",
    "        filename = w.value\n",
    "         #Te recorres todo lo que hay en la respuesta y lo escribes en el archivo abierto\n",
    "        with open(filename, 'wb') as f:\n",
    "            for chunk in response:\n",
    "                f.write(chunk)        \n",
    "        img = Image.open(w.value)\n",
    "        print(w.value + ' downloaded')\n",
    "        img.show()\n",
    "        \n",
    "        \n",
    "#To display objects options           \n",
    "widgets.interactive(callService,opcionesServicios=opcionesServicios)        "
   ]
  },
  {
   "cell_type": "code",
   "execution_count": null,
   "metadata": {},
   "outputs": [],
   "source": [
    "\n",
    "\n"
   ]
  },
  {
   "cell_type": "code",
   "execution_count": null,
   "metadata": {},
   "outputs": [],
   "source": []
  }
 ],
 "metadata": {
  "kernelspec": {
   "display_name": "Python 2",
   "language": "python",
   "name": "python2"
  },
  "language_info": {
   "codemirror_mode": {
    "name": "ipython",
    "version": 2
   },
   "file_extension": ".py",
   "mimetype": "text/x-python",
   "name": "python",
   "nbconvert_exporter": "python",
   "pygments_lexer": "ipython2",
   "version": "2.7.15"
  }
 },
 "nbformat": 4,
 "nbformat_minor": 2
}
